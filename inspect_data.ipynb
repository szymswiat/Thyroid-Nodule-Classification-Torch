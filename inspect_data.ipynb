{
 "cells": [
  {
   "cell_type": "code",
   "execution_count": null,
   "outputs": [],
   "source": [
    "from os.path import join\n",
    "\n",
    "from dataset_utils.NoduleDatasetPaths import NoduleDatasetPaths\n",
    "from modules.NoduleDataModule import NoduleDataModule\n",
    "from imageio.plugins.pillow import ndarray_to_pil\n",
    "gen_name = 'test'\n",
    "\n",
    "paths = NoduleDatasetPaths()\n",
    "dataset_out_path = join(paths.generated_root, gen_name)\n",
    "\n",
    "\n",
    "dm = NoduleDataModule(dataset_out_path)\n",
    "dm.setup()\n",
    "ds = dm.test_ds"
   ],
   "metadata": {
    "collapsed": false,
    "pycharm": {
     "name": "#%%\n"
    }
   }
  },
  {
   "cell_type": "code",
   "execution_count": null,
   "outputs": [],
   "source": [
    "\n",
    "image, label = ds[234]\n",
    "\n",
    "ndarray_to_pil(image.detach().cpu().numpy()[0])"
   ],
   "metadata": {
    "collapsed": false,
    "pycharm": {
     "name": "#%%\n"
    }
   }
  }
 ],
 "metadata": {
  "kernelspec": {
   "display_name": "Python 3",
   "language": "python",
   "name": "python3"
  },
  "language_info": {
   "codemirror_mode": {
    "name": "ipython",
    "version": 2
   },
   "file_extension": ".py",
   "mimetype": "text/x-python",
   "name": "python",
   "nbconvert_exporter": "python",
   "pygments_lexer": "ipython2",
   "version": "2.7.6"
  }
 },
 "nbformat": 4,
 "nbformat_minor": 0
}