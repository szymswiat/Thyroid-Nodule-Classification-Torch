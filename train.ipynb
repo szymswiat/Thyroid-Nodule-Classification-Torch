{
 "cells": [
  {
   "cell_type": "code",
   "execution_count": null,
   "outputs": [],
   "source": [
    "from os.path import join\n",
    "from pytorch_lightning import Trainer\n",
    "\n",
    "from dataset_utils.NoduleDatasetPaths import NoduleDatasetPaths\n",
    "from modules.ClsModule import ClsModule\n",
    "from modules.NoduleDataModule import NoduleDataModule\n",
    "gen_name = 'test'\n",
    "\n",
    "paths = NoduleDatasetPaths()\n",
    "dataset_out_path = join(paths.generated_root, gen_name)\n",
    "\n",
    "\n",
    "cls_dm = NoduleDataModule(dataset_out_path)\n",
    "\n",
    "cls_model = ClsModule(num_classes=len(NoduleDataModule.CLS_MAPPINGS))\n",
    "\n",
    "trainer = Trainer(\n",
    "    max_epochs=3\n",
    ")\n"
   ],
   "metadata": {
    "collapsed": false,
    "pycharm": {
     "name": "#%%\n"
    }
   }
  },
  {
   "cell_type": "code",
   "execution_count": null,
   "outputs": [],
   "source": [
    "trainer.fit(cls_model, datamodule=cls_dm)"
   ],
   "metadata": {
    "collapsed": false,
    "pycharm": {
     "name": "#%%\n"
    }
   }
  },
  {
   "cell_type": "code",
   "execution_count": null,
   "outputs": [],
   "source": [
    "trainer.test()"
   ],
   "metadata": {
    "collapsed": false,
    "pycharm": {
     "name": "#%%\n"
    }
   }
  },
  {
   "cell_type": "code",
   "execution_count": null,
   "outputs": [],
   "source": [
    "cls_model.metrics['cm'].compute()"
   ],
   "metadata": {
    "collapsed": false,
    "pycharm": {
     "name": "#%%\n"
    }
   }
  }
 ],
 "metadata": {
  "kernelspec": {
   "display_name": "Python 3",
   "language": "python",
   "name": "python3"
  },
  "language_info": {
   "codemirror_mode": {
    "name": "ipython",
    "version": 2
   },
   "file_extension": ".py",
   "mimetype": "text/x-python",
   "name": "python",
   "nbconvert_exporter": "python",
   "pygments_lexer": "ipython2",
   "version": "2.7.6"
  }
 },
 "nbformat": 4,
 "nbformat_minor": 0
}