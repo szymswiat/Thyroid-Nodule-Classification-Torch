{
 "cells": [
  {
   "cell_type": "code",
   "execution_count": null,
   "metadata": {
    "collapsed": true
   },
   "outputs": [],
   "source": [
    "import shutil\n",
    "\n",
    "from dataset_utils.NoduleDatasetPaths import NoduleDatasetPaths\n",
    "from dataset_utils.generated.NoduleDatasetSplitter import NoduleDatasetSplitter\n",
    "from dataset_utils.raw.NoduleRawConverter import NoduleRawConverter\n",
    "from dataset_utils.raw.NoduleRawGenerator import NoduleRawGenerator\n",
    "\n",
    "from os.path import join\n",
    "\n",
    "gen_name = 'test'\n",
    "\n",
    "paths = NoduleDatasetPaths()\n",
    "dataset_out_path = join(paths.generated_root, gen_name)"
   ]
  },
  {
   "cell_type": "code",
   "source": [
    "raw_generator = NoduleRawGenerator(paths.raw_images, paths.raw_annotations)\n",
    "converter = NoduleRawConverter(raw_generator, dataset_out_path)\n",
    "\n",
    "converter.convert_and_save_cropped(\n",
    "    crops_per_region=3,\n",
    "    bg_crops=7,\n",
    "    crop_min_size=150,\n",
    "    random_seed=24,\n",
    "    annotate_images=False\n",
    ")"
   ],
   "metadata": {
    "collapsed": false,
    "pycharm": {
     "name": "#%%\n"
    }
   },
   "execution_count": null,
   "outputs": []
  },
  {
   "cell_type": "code",
   "execution_count": null,
   "outputs": [],
   "source": [
    "shutil.rmtree(dataset_out_path)"
   ],
   "metadata": {
    "collapsed": false,
    "pycharm": {
     "name": "#%%\n"
    }
   }
  },
  {
   "cell_type": "code",
   "execution_count": null,
   "outputs": [],
   "source": [
    "splitter = NoduleDatasetSplitter(\n",
    "    dataset_out_path,\n",
    "    test_split=0.2,\n",
    "    val_split=0.1\n",
    ")\n",
    "\n",
    "train, val, test = splitter.split_distributed_cases()"
   ],
   "metadata": {
    "collapsed": false,
    "pycharm": {
     "name": "#%%\n"
    }
   }
  }
 ],
 "metadata": {
  "kernelspec": {
   "display_name": "Python 3",
   "language": "python",
   "name": "python3"
  },
  "language_info": {
   "codemirror_mode": {
    "name": "ipython",
    "version": 2
   },
   "file_extension": ".py",
   "mimetype": "text/x-python",
   "name": "python",
   "nbconvert_exporter": "python",
   "pygments_lexer": "ipython2",
   "version": "2.7.6"
  }
 },
 "nbformat": 4,
 "nbformat_minor": 0
}